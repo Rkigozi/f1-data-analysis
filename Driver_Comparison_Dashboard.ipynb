{
 "cells": [
  {
   "cell_type": "markdown",
   "id": "45a1b11a",
   "metadata": {},
   "source": [
    "## 🏎️ Formula 1 Driver Comparison Dashboard\n",
    "by Robert Kiruta-Kigozi"
   ]
  },
  {
   "cell_type": "markdown",
   "id": "fb21eb79",
   "metadata": {},
   "source": [
    "## Introduction\n",
    "In this project, I developed an interactive dashboard to compare the performance of Max Verstappen and Lewis Hamilton at the Italian Grand Prix 2023 race. Using Python and the FastF1 library, this analysis focuses on key metrics such as average lap time, positions gained or lost."
   ]
  },
  {
   "cell_type": "markdown",
   "id": "6c3a1935",
   "metadata": {},
   "source": [
    "## FastF1 Library Documentation\n",
    "This project uses the **FastF1** library to load and process Formula 1 race data, including lap times, sector times, and driver positions. For more details on the FastF1 library and its methods, you can refer to the official documentation:\n",
    "\n",
    "[FastF1 Documentation](https://theoehrly.github.io/Fast-F1/)"
   ]
  },
  {
   "cell_type": "markdown",
   "id": "1860f022",
   "metadata": {},
   "source": [
    "## Project Outline\n",
    "- **Data Loading and Exploration**: Loading and examining the race data.\n",
    "- **Data Analysis and Visualisations**: Analysing the drivers' performance metrics with visualisations.\n",
    "- **Summary**: Concluding observations and insights from the analysis.\n"
   ]
  },
  {
   "cell_type": "markdown",
   "id": "ab60edd0",
   "metadata": {},
   "source": [
    "### Import Libraries and Set Up Cache\n",
    "To start, we import the necessary libraries: `fastf1` for Formula 1 data retrieval, `pandas` for data manipulation, and `plotly.express` for visualisations. Enabling FastF1's caching feature allows us to store data locally, which speeds up data retrieval if we need to reload it.\n"
   ]
  },
  {
   "cell_type": "code",
   "execution_count": 100,
   "id": "03f46083",
   "metadata": {},
   "outputs": [
    {
     "name": "stdout",
     "output_type": "stream",
     "text": [
      "Requirement already satisfied: plotly in /Library/Frameworks/Python.framework/Versions/3.9/lib/python3.9/site-packages (5.24.1)\n",
      "Requirement already satisfied: tenacity>=6.2.0 in /Library/Frameworks/Python.framework/Versions/3.9/lib/python3.9/site-packages (from plotly) (9.0.0)\n",
      "Requirement already satisfied: packaging in /Library/Frameworks/Python.framework/Versions/3.9/lib/python3.9/site-packages (from plotly) (22.0)\n",
      "\n",
      "\u001b[1m[\u001b[0m\u001b[34;49mnotice\u001b[0m\u001b[1;39;49m]\u001b[0m\u001b[39;49m A new release of pip is available: \u001b[0m\u001b[31;49m23.1.2\u001b[0m\u001b[39;49m -> \u001b[0m\u001b[32;49m24.3.1\u001b[0m\n",
      "\u001b[1m[\u001b[0m\u001b[34;49mnotice\u001b[0m\u001b[1;39;49m]\u001b[0m\u001b[39;49m To update, run: \u001b[0m\u001b[32;49mpython3.9 -m pip install --upgrade pip\u001b[0m\n",
      "Note: you may need to restart the kernel to use updated packages.\n"
     ]
    }
   ],
   "source": [
    "pip install plotly"
   ]
  },
  {
   "cell_type": "code",
   "execution_count": 101,
   "id": "ea0eedaa",
   "metadata": {},
   "outputs": [],
   "source": [
    "import fastf1\n",
    "import pandas as pd\n",
    "import plotly.express as px"
   ]
  },
  {
   "cell_type": "markdown",
   "id": "d58f9270",
   "metadata": {},
   "source": [
    "### Enable Caching\n",
    "To make data loading faster on repeated runs, we enable FastF1’s caching feature. This stores downloaded data locally in a cache folder, so we don’t need to redownload data every time we run the notebook."
   ]
  },
  {
   "cell_type": "code",
   "execution_count": 102,
   "id": "a1208378",
   "metadata": {},
   "outputs": [],
   "source": [
    "fastf1.Cache.enable_cache('cache')  # Saves cached data in a 'cache' folder within your project"
   ]
  },
  {
   "cell_type": "markdown",
   "id": "0e282c13",
   "metadata": {},
   "source": [
    "### Load Race Data\n",
    "Now, we load data from the 2023 Italian Grand Prix. FastF1 provides data on various sessions within a race weekend, such as practice, qualifying, and the main race. Here, we focus on the main race session, denoted by `'R'`."
   ]
  },
  {
   "cell_type": "code",
   "execution_count": 103,
   "id": "214f90ba",
   "metadata": {
    "scrolled": true
   },
   "outputs": [
    {
     "name": "stdout",
     "output_type": "stream",
     "text": [
      "Available drivers after reloading: ['VER' 'GAS' 'PER' 'ALO' 'LEC' 'STR' 'SAR' 'MAG' 'TSU' 'ALB' 'ZHO' 'HUL'\n",
      " 'OCO' 'NOR' 'LAW' 'HAM' 'SAI' 'RUS' 'BOT' 'PIA']\n"
     ]
    }
   ],
   "source": [
    "# Load the race session for the 2023 Italian Grand Prix\n",
    "race_data = fastf1.get_session(2023, 'Italian Grand Prix', 'R')  # 'R' stands for Race session\n",
    "race_data.load()  # Fetches race data for this session\n",
    "laps_data = race_data.laps\n",
    "unique_drivers = laps_data['Driver'].unique()\n",
    "print(\"Available drivers after reloading:\", unique_drivers)"
   ]
  },
  {
   "cell_type": "markdown",
   "id": "d443f3e0",
   "metadata": {},
   "source": [
    "### List of Drivers\n",
    "To start our exploration, we’ll list all drivers who participated in the 2023 Italian Grand Prix. This gives us an overview of the available drivers for our comparison visualisations."
   ]
  },
  {
   "cell_type": "code",
   "execution_count": 104,
   "id": "c5106ac8",
   "metadata": {},
   "outputs": [
    {
     "name": "stdout",
     "output_type": "stream",
     "text": [
      "Drivers in the Race: ['1', '11', '55', '16', '63', '44', '23', '4', '14', '77', '40', '81', '2', '24', '10', '18', '27', '20', '31', '22']\n"
     ]
    }
   ],
   "source": [
    "# Get a list of drivers who participated in the race\n",
    "drivers = race_data.drivers\n",
    "print(\"Drivers in the Race:\", drivers)"
   ]
  },
  {
   "cell_type": "markdown",
   "id": "91889aba",
   "metadata": {},
   "source": [
    "### Sample Lap Data for Driver Analysis\n",
    "Now, we examine lap data for a sample driver, Max Verstappen, to understand the structure of the race data. Each row represents a lap, including key information like `LapTime`, `Sector1Time`, `Sector2Time`, `Sector3Time`, and `Position`. This helps us identify which fields will be useful in our driver comparison analysis.\n"
   ]
  },
  {
   "cell_type": "code",
   "execution_count": 105,
   "id": "d84cbf26",
   "metadata": {
    "scrolled": false
   },
   "outputs": [
    {
     "data": {
      "text/html": [
       "<div>\n",
       "<style scoped>\n",
       "    .dataframe tbody tr th:only-of-type {\n",
       "        vertical-align: middle;\n",
       "    }\n",
       "\n",
       "    .dataframe tbody tr th {\n",
       "        vertical-align: top;\n",
       "    }\n",
       "\n",
       "    .dataframe thead th {\n",
       "        text-align: right;\n",
       "    }\n",
       "</style>\n",
       "<table border=\"1\" class=\"dataframe\">\n",
       "  <thead>\n",
       "    <tr style=\"text-align: right;\">\n",
       "      <th></th>\n",
       "      <th>Time</th>\n",
       "      <th>Driver</th>\n",
       "      <th>DriverNumber</th>\n",
       "      <th>LapTime</th>\n",
       "      <th>LapNumber</th>\n",
       "      <th>Stint</th>\n",
       "      <th>PitOutTime</th>\n",
       "      <th>PitInTime</th>\n",
       "      <th>Sector1Time</th>\n",
       "      <th>Sector2Time</th>\n",
       "      <th>...</th>\n",
       "      <th>FreshTyre</th>\n",
       "      <th>Team</th>\n",
       "      <th>LapStartTime</th>\n",
       "      <th>LapStartDate</th>\n",
       "      <th>TrackStatus</th>\n",
       "      <th>Position</th>\n",
       "      <th>Deleted</th>\n",
       "      <th>DeletedReason</th>\n",
       "      <th>FastF1Generated</th>\n",
       "      <th>IsAccurate</th>\n",
       "    </tr>\n",
       "  </thead>\n",
       "  <tbody>\n",
       "    <tr>\n",
       "      <th>0</th>\n",
       "      <td>0 days 01:23:49.801000</td>\n",
       "      <td>VER</td>\n",
       "      <td>1</td>\n",
       "      <td>0 days 00:01:27.905000</td>\n",
       "      <td>1.0</td>\n",
       "      <td>1.0</td>\n",
       "      <td>NaT</td>\n",
       "      <td>NaT</td>\n",
       "      <td>NaT</td>\n",
       "      <td>0 days 00:00:29.666000</td>\n",
       "      <td>...</td>\n",
       "      <td>True</td>\n",
       "      <td>Red Bull Racing</td>\n",
       "      <td>0 days 01:22:21.726000</td>\n",
       "      <td>2023-09-03 13:23:22.771</td>\n",
       "      <td>1</td>\n",
       "      <td>3.0</td>\n",
       "      <td>False</td>\n",
       "      <td></td>\n",
       "      <td>False</td>\n",
       "      <td>False</td>\n",
       "    </tr>\n",
       "    <tr>\n",
       "      <th>1</th>\n",
       "      <td>0 days 01:25:15.964000</td>\n",
       "      <td>VER</td>\n",
       "      <td>1</td>\n",
       "      <td>0 days 00:01:26.163000</td>\n",
       "      <td>2.0</td>\n",
       "      <td>1.0</td>\n",
       "      <td>NaT</td>\n",
       "      <td>NaT</td>\n",
       "      <td>0 days 00:00:28.274000</td>\n",
       "      <td>0 days 00:00:29.543000</td>\n",
       "      <td>...</td>\n",
       "      <td>True</td>\n",
       "      <td>Red Bull Racing</td>\n",
       "      <td>0 days 01:23:49.801000</td>\n",
       "      <td>2023-09-03 13:24:50.846</td>\n",
       "      <td>1</td>\n",
       "      <td>2.0</td>\n",
       "      <td>False</td>\n",
       "      <td></td>\n",
       "      <td>False</td>\n",
       "      <td>True</td>\n",
       "    </tr>\n",
       "    <tr>\n",
       "      <th>2</th>\n",
       "      <td>0 days 01:26:41.666000</td>\n",
       "      <td>VER</td>\n",
       "      <td>1</td>\n",
       "      <td>0 days 00:01:25.702000</td>\n",
       "      <td>3.0</td>\n",
       "      <td>1.0</td>\n",
       "      <td>NaT</td>\n",
       "      <td>NaT</td>\n",
       "      <td>0 days 00:00:28.097000</td>\n",
       "      <td>0 days 00:00:29.320000</td>\n",
       "      <td>...</td>\n",
       "      <td>True</td>\n",
       "      <td>Red Bull Racing</td>\n",
       "      <td>0 days 01:25:15.964000</td>\n",
       "      <td>2023-09-03 13:26:17.009</td>\n",
       "      <td>1</td>\n",
       "      <td>2.0</td>\n",
       "      <td>False</td>\n",
       "      <td></td>\n",
       "      <td>False</td>\n",
       "      <td>True</td>\n",
       "    </tr>\n",
       "    <tr>\n",
       "      <th>3</th>\n",
       "      <td>0 days 01:28:07.716000</td>\n",
       "      <td>VER</td>\n",
       "      <td>1</td>\n",
       "      <td>0 days 00:01:26.050000</td>\n",
       "      <td>4.0</td>\n",
       "      <td>1.0</td>\n",
       "      <td>NaT</td>\n",
       "      <td>NaT</td>\n",
       "      <td>0 days 00:00:28.145000</td>\n",
       "      <td>0 days 00:00:29.474000</td>\n",
       "      <td>...</td>\n",
       "      <td>True</td>\n",
       "      <td>Red Bull Racing</td>\n",
       "      <td>0 days 01:26:41.666000</td>\n",
       "      <td>2023-09-03 13:27:42.711</td>\n",
       "      <td>1</td>\n",
       "      <td>2.0</td>\n",
       "      <td>False</td>\n",
       "      <td></td>\n",
       "      <td>False</td>\n",
       "      <td>True</td>\n",
       "    </tr>\n",
       "    <tr>\n",
       "      <th>4</th>\n",
       "      <td>0 days 01:29:33.892000</td>\n",
       "      <td>VER</td>\n",
       "      <td>1</td>\n",
       "      <td>0 days 00:01:26.176000</td>\n",
       "      <td>5.0</td>\n",
       "      <td>1.0</td>\n",
       "      <td>NaT</td>\n",
       "      <td>NaT</td>\n",
       "      <td>0 days 00:00:28.155000</td>\n",
       "      <td>0 days 00:00:29.514000</td>\n",
       "      <td>...</td>\n",
       "      <td>True</td>\n",
       "      <td>Red Bull Racing</td>\n",
       "      <td>0 days 01:28:07.716000</td>\n",
       "      <td>2023-09-03 13:29:08.761</td>\n",
       "      <td>1</td>\n",
       "      <td>2.0</td>\n",
       "      <td>False</td>\n",
       "      <td></td>\n",
       "      <td>False</td>\n",
       "      <td>True</td>\n",
       "    </tr>\n",
       "  </tbody>\n",
       "</table>\n",
       "<p>5 rows × 31 columns</p>\n",
       "</div>"
      ],
      "text/plain": [
       "                    Time Driver DriverNumber                LapTime  \\\n",
       "0 0 days 01:23:49.801000    VER            1 0 days 00:01:27.905000   \n",
       "1 0 days 01:25:15.964000    VER            1 0 days 00:01:26.163000   \n",
       "2 0 days 01:26:41.666000    VER            1 0 days 00:01:25.702000   \n",
       "3 0 days 01:28:07.716000    VER            1 0 days 00:01:26.050000   \n",
       "4 0 days 01:29:33.892000    VER            1 0 days 00:01:26.176000   \n",
       "\n",
       "   LapNumber  Stint PitOutTime PitInTime            Sector1Time  \\\n",
       "0        1.0    1.0        NaT       NaT                    NaT   \n",
       "1        2.0    1.0        NaT       NaT 0 days 00:00:28.274000   \n",
       "2        3.0    1.0        NaT       NaT 0 days 00:00:28.097000   \n",
       "3        4.0    1.0        NaT       NaT 0 days 00:00:28.145000   \n",
       "4        5.0    1.0        NaT       NaT 0 days 00:00:28.155000   \n",
       "\n",
       "             Sector2Time  ... FreshTyre             Team  \\\n",
       "0 0 days 00:00:29.666000  ...      True  Red Bull Racing   \n",
       "1 0 days 00:00:29.543000  ...      True  Red Bull Racing   \n",
       "2 0 days 00:00:29.320000  ...      True  Red Bull Racing   \n",
       "3 0 days 00:00:29.474000  ...      True  Red Bull Racing   \n",
       "4 0 days 00:00:29.514000  ...      True  Red Bull Racing   \n",
       "\n",
       "            LapStartTime            LapStartDate  TrackStatus  Position  \\\n",
       "0 0 days 01:22:21.726000 2023-09-03 13:23:22.771            1       3.0   \n",
       "1 0 days 01:23:49.801000 2023-09-03 13:24:50.846            1       2.0   \n",
       "2 0 days 01:25:15.964000 2023-09-03 13:26:17.009            1       2.0   \n",
       "3 0 days 01:26:41.666000 2023-09-03 13:27:42.711            1       2.0   \n",
       "4 0 days 01:28:07.716000 2023-09-03 13:29:08.761            1       2.0   \n",
       "\n",
       "   Deleted  DeletedReason FastF1Generated IsAccurate  \n",
       "0    False                          False      False  \n",
       "1    False                          False       True  \n",
       "2    False                          False       True  \n",
       "3    False                          False       True  \n",
       "4    False                          False       True  \n",
       "\n",
       "[5 rows x 31 columns]"
      ]
     },
     "execution_count": 105,
     "metadata": {},
     "output_type": "execute_result"
    }
   ],
   "source": [
    "# Get lap data for Max Verstappen\n",
    "laps_verstappen = race_data.laps.pick_drivers(['VER'])\n",
    "laps_verstappen.head()  # Display the first few rows of lap data"
   ]
  },
  {
   "cell_type": "markdown",
   "id": "d412a08b",
   "metadata": {},
   "source": [
    "## Data Cleaning\n",
    "To ensure consistency and focus on relevant metrics for driver comparison, we’ll clean the data with the following steps:\n",
    "1. Create a standalone copy of the data to prevent modification warnings.\n",
    "2. Convert lap and sector time columns to seconds for easier calculations.\n",
    "3. Drop rows with missing values in essential lap and sector time columns.\n",
    "4. Drop unnecessary columns that won’t contribute to the analysis.\n",
    "5. Forward-fill missing `Position` values to retain continuity in position tracking.\n",
    "6. Handle any missing values in tyre compound and stint data.\n",
    "7. Handle missing values in speed columns, which are optional for this analysis."
   ]
  },
  {
   "cell_type": "markdown",
   "id": "1b48ce60",
   "metadata": {},
   "source": [
    "### Step 1: Create a Copy of the Data\n",
    "First, we’ll create a standalone copy of the `laps_verstappen` DataFrame. This prevents any warnings when making changes to the data and ensures that our modifications don’t unintentionally affect the original dataset.b"
   ]
  },
  {
   "cell_type": "code",
   "execution_count": 106,
   "id": "15ba50d9",
   "metadata": {},
   "outputs": [],
   "source": [
    "laps_verstappen = laps_verstappen.copy()"
   ]
  },
  {
   "cell_type": "markdown",
   "id": "e124227f",
   "metadata": {},
   "source": [
    "### Step 2: Convert Lap and Sector Times to Seconds\n",
    "Next, we convert the `LapTime` and sector time columns (`Sector1Time`, `Sector2Time`, `Sector3Time`) from timedelta format to seconds. This simplifies calculations for metrics like average lap time and makes comparisons easier."
   ]
  },
  {
   "cell_type": "code",
   "execution_count": 107,
   "id": "a777fae4",
   "metadata": {},
   "outputs": [],
   "source": [
    "laps_verstappen['LapTimeSeconds'] = laps_verstappen['LapTime'].dt.total_seconds()\n",
    "laps_verstappen['Sector1TimeSeconds'] = laps_verstappen['Sector1Time'].dt.total_seconds()\n",
    "laps_verstappen['Sector2TimeSeconds'] = laps_verstappen['Sector2Time'].dt.total_seconds()\n",
    "laps_verstappen['Sector3TimeSeconds'] = laps_verstappen['Sector3Time'].dt.total_seconds()"
   ]
  },
  {
   "cell_type": "markdown",
   "id": "146a6785",
   "metadata": {},
   "source": [
    "### Step 3: Drop Rows with Missing Lap and Sector Times\n",
    "For accurate comparisons, we’ll drop rows where lap or sector times are missing. These columns (`LapTimeSeconds`, `Sector1TimeSeconds`, `Sector2TimeSeconds`, `Sector3TimeSeconds`) are essential for calculating average lap times and sector performances."
   ]
  },
  {
   "cell_type": "code",
   "execution_count": 108,
   "id": "41d64f3f",
   "metadata": {},
   "outputs": [],
   "source": [
    "laps_verstappen = laps_verstappen.dropna(subset=['LapTimeSeconds', 'Sector1TimeSeconds', 'Sector2TimeSeconds', 'Sector3TimeSeconds'])"
   ]
  },
  {
   "cell_type": "markdown",
   "id": "96d4f955",
   "metadata": {},
   "source": [
    "### Step 4: Drop Unnecessary Columns\n",
    "To keep the dataset manageable, we’ll remove columns that won’t be used in our analysis. This includes columns like `Deleted`, `DeletedReason`, `FastF1Generated`, and `IsAccurate`, which don’t contribute to our driver comparison metrics.\n"
   ]
  },
  {
   "cell_type": "code",
   "execution_count": 109,
   "id": "08c04063",
   "metadata": {},
   "outputs": [],
   "source": [
    "laps_verstappen = laps_verstappen.drop(columns=['Deleted', 'DeletedReason', 'FastF1Generated', 'IsAccurate'], errors='ignore')"
   ]
  },
  {
   "cell_type": "markdown",
   "id": "20df1cc9",
   "metadata": {},
   "source": [
    "### Step 5: Forward-Fill Missing Position Values\n",
    "To ensure continuity in tracking position changes, we forward-fill any missing values in the `Position` column. This approach assumes that if a position value is missing, the driver’s position remains the same as in the previous lap."
   ]
  },
  {
   "cell_type": "code",
   "execution_count": 110,
   "id": "6a2b64f1",
   "metadata": {},
   "outputs": [],
   "source": [
    "laps_verstappen['Position'] = laps_verstappen['Position'].fillna(method='ffill')"
   ]
  },
  {
   "cell_type": "markdown",
   "id": "c8f2f6e0",
   "metadata": {},
   "source": [
    "### Step 6: Handle Missing Values in Tyre Compound and Stint Data\n",
    "Tyre compound and stint data provide context on each lap's tyre type and sequence. We fill any missing values in `Compound` with 'Unknown' and in `Stint` with 0, ensuring no nulls in these relevant columns.\n"
   ]
  },
  {
   "cell_type": "code",
   "execution_count": 111,
   "id": "df4aba55",
   "metadata": {},
   "outputs": [],
   "source": [
    "laps_verstappen['Compound'] = laps_verstappen['Compound'].fillna('Unknown')\n",
    "laps_verstappen['Stint'] = laps_verstappen['Stint'].fillna(0).astype(int)"
   ]
  },
  {
   "cell_type": "markdown",
   "id": "ffea33ab",
   "metadata": {},
   "source": [
    "### Step 7: Handle Missing Values in Speed Columns (Optional)\n",
    "Speed data columns (`SpeedI1`, `SpeedI2`, `SpeedFL`, `SpeedST`) provide additional insights but are optional for this analysis. For simplicity, we fill missing values in these columns with 0.\n"
   ]
  },
  {
   "cell_type": "code",
   "execution_count": 112,
   "id": "7bfed5d7",
   "metadata": {},
   "outputs": [],
   "source": [
    "laps_verstappen['SpeedI1'] = laps_verstappen['SpeedI1'].fillna(0)\n",
    "laps_verstappen['SpeedI2'] = laps_verstappen['SpeedI2'].fillna(0)\n",
    "laps_verstappen['SpeedFL'] = laps_verstappen['SpeedFL'].fillna(0)\n",
    "laps_verstappen['SpeedST'] = laps_verstappen['SpeedST'].fillna(0)"
   ]
  },
  {
   "cell_type": "markdown",
   "id": "6ccc93c0",
   "metadata": {},
   "source": [
    "### Step 8: Final Check for Null Values\n",
    "To confirm that our dataset is clean, we check for any remaining null values in the essential columns after our cleaning steps."
   ]
  },
  {
   "cell_type": "code",
   "execution_count": 113,
   "id": "7ad2d1a4",
   "metadata": {},
   "outputs": [
    {
     "name": "stdout",
     "output_type": "stream",
     "text": [
      "Remaining null values in each column:\n",
      " Time                   0\n",
      "Driver                 0\n",
      "DriverNumber           0\n",
      "LapTime                0\n",
      "LapNumber              0\n",
      "Stint                  0\n",
      "PitOutTime            49\n",
      "PitInTime             49\n",
      "Sector1Time            0\n",
      "Sector2Time            0\n",
      "Sector3Time            0\n",
      "Sector1SessionTime     0\n",
      "Sector2SessionTime     0\n",
      "Sector3SessionTime     0\n",
      "SpeedI1                0\n",
      "SpeedI2                0\n",
      "SpeedFL                0\n",
      "SpeedST                0\n",
      "IsPersonalBest         0\n",
      "Compound               0\n",
      "TyreLife               0\n",
      "FreshTyre              0\n",
      "Team                   0\n",
      "LapStartTime           0\n",
      "LapStartDate           0\n",
      "TrackStatus            0\n",
      "Position               0\n",
      "LapTimeSeconds         0\n",
      "Sector1TimeSeconds     0\n",
      "Sector2TimeSeconds     0\n",
      "Sector3TimeSeconds     0\n",
      "dtype: int64\n"
     ]
    }
   ],
   "source": [
    "null_counts_cleaned = laps_verstappen.isnull().sum()\n",
    "print(\"Remaining null values in each column:\\n\", null_counts_cleaned)"
   ]
  },
  {
   "cell_type": "markdown",
   "id": "52ed07d6",
   "metadata": {},
   "source": [
    "Pit Stop Columns (`PitOutTime` and `PitInTime`):\n",
    "\n",
    "These columns still have null values, which is expected because not every lap involves a pit stop."
   ]
  },
  {
   "cell_type": "markdown",
   "id": "658c7cc8",
   "metadata": {},
   "source": [
    "## Driver Comparison Analysis\n",
    "With our data cleaned and prepared, we’re ready to analyse and compare the performance of two Formula 1 drivers in a selected race. This analysis will focus on key performance metrics such as average lap time, sector times, and position changes.\n",
    "\n",
    "### Steps in this Section:\n",
    "1. Set up driver selection to allow for a comparison between two chosen drivers.\n",
    "2. Calculate summary metrics for each driver, including average lap time, sector times, and positions.\n",
    "3. Visualise the comparisons using interactive charts, highlighting differences in lap-by-lap performance and sector averages.\n",
    "4. Add observations to interpret the data and provide insights on driver performance.\n"
   ]
  },
  {
   "cell_type": "markdown",
   "id": "dc726129",
   "metadata": {},
   "source": [
    "### Step 2: Set Up Driver Selection\n",
    "To enable dynamic comparisons, we’ll set up a way to select two drivers for comparison. This includes:\n",
    "1. Converting lap and sector times from timedelta format to seconds for easier calculations.\n",
    "2. Defining driver codes for each driver.\n",
    "3. Filtering the data to create a subset for each selected driver.\n"
   ]
  },
  {
   "cell_type": "code",
   "execution_count": 114,
   "id": "d663bedb",
   "metadata": {},
   "outputs": [],
   "source": [
    "# Convert lap and sector times to seconds for all drivers\n",
    "laps_all_drivers['LapTimeSeconds'] = laps_all_drivers['LapTime'].dt.total_seconds()\n",
    "laps_all_drivers['Sector1TimeSeconds'] = laps_all_drivers['Sector1Time'].dt.total_seconds()\n",
    "laps_all_drivers['Sector2TimeSeconds'] = laps_all_drivers['Sector2Time'].dt.total_seconds()\n",
    "laps_all_drivers['Sector3TimeSeconds'] = laps_all_drivers['Sector3Time'].dt.total_seconds()"
   ]
  },
  {
   "cell_type": "code",
   "execution_count": 115,
   "id": "d0d9fba0",
   "metadata": {},
   "outputs": [],
   "source": [
    "# Define driver codes for the two drivers you want to compare\n",
    "driver_code_1 = 'VER'  # Example: Max Verstappen\n",
    "driver_code_2 = 'HAM'  # Example: Lewis Hamilton"
   ]
  },
  {
   "cell_type": "code",
   "execution_count": 116,
   "id": "74f0a7c9",
   "metadata": {},
   "outputs": [],
   "source": [
    "# Filter data for each driver\n",
    "driver_data_1 = laps_all_drivers[laps_all_drivers['Driver'] == driver_code_1]\n",
    "driver_data_2 = laps_all_drivers[laps_all_drivers['Driver'] == driver_code_2]\n"
   ]
  },
  {
   "cell_type": "markdown",
   "id": "0fa06380",
   "metadata": {},
   "source": [
    "### Step 3: Calculate Summary Metrics\n",
    "In this step, we’ll calculate the following metrics for each driver:\n",
    "\n",
    "- Average Lap Time\n",
    "- Average Sector Times\n",
    "- Net Position Change (from the start to the end of the race)\n"
   ]
  },
  {
   "cell_type": "code",
   "execution_count": 117,
   "id": "42073c7d",
   "metadata": {},
   "outputs": [
    {
     "name": "stdout",
     "output_type": "stream",
     "text": [
      "Average Lap Time for VER (Verstappen): 86.69 seconds\n",
      "Average Lap Time for HAM (Hamilton): 87.43 seconds\n",
      "\n",
      "Average Sector 1 Time for VER: 28.60 seconds\n",
      "Average Sector 1 Time for HAM: 28.64 seconds\n",
      "\n",
      "Average Sector 2 Time for VER: 29.65 seconds\n",
      "Average Sector 2 Time for HAM: 30.01 seconds\n",
      "\n",
      "Average Sector 3 Time for VER: 28.42 seconds\n",
      "Average Sector 3 Time for HAM: 28.71 seconds\n",
      "\n",
      "Net position change for VER (Verstappen): 2.0\n",
      "Net position change for HAM (Hamilton): 4.0\n"
     ]
    }
   ],
   "source": [
    "# Create copies to avoid SettingWithCopyWarning\n",
    "driver_data_1 = driver_data_1.copy()\n",
    "driver_data_2 = driver_data_2.copy()\n",
    "\n",
    "# Calculate average lap and sector times for Driver 1 (VER)\n",
    "avg_lap_time_1 = driver_data_1['LapTimeSeconds'].mean()\n",
    "avg_sector1_time_1 = driver_data_1['Sector1TimeSeconds'].mean()\n",
    "avg_sector2_time_1 = driver_data_1['Sector2TimeSeconds'].mean()\n",
    "avg_sector3_time_1 = driver_data_1['Sector3TimeSeconds'].mean()\n",
    "\n",
    "# Calculate average lap and sector times for Driver 2 (HAM)\n",
    "avg_lap_time_2 = driver_data_2['LapTimeSeconds'].mean()\n",
    "avg_sector1_time_2 = driver_data_2['Sector1TimeSeconds'].mean()\n",
    "avg_sector2_time_2 = driver_data_2['Sector2TimeSeconds'].mean()\n",
    "avg_sector3_time_2 = driver_data_2['Sector3TimeSeconds'].mean()\n",
    "\n",
    "# Print summary metrics for average times\n",
    "print(f\"Average Lap Time for {driver_code_1} (Verstappen): {avg_lap_time_1:.2f} seconds\")\n",
    "print(f\"Average Lap Time for {driver_code_2} (Hamilton): {avg_lap_time_2:.2f} seconds\\n\")\n",
    "\n",
    "print(f\"Average Sector 1 Time for {driver_code_1}: {avg_sector1_time_1:.2f} seconds\")\n",
    "print(f\"Average Sector 1 Time for {driver_code_2}: {avg_sector1_time_2:.2f} seconds\\n\")\n",
    "\n",
    "print(f\"Average Sector 2 Time for {driver_code_1}: {avg_sector2_time_1:.2f} seconds\")\n",
    "print(f\"Average Sector 2 Time for {driver_code_2}: {avg_sector2_time_2:.2f} seconds\\n\")\n",
    "\n",
    "print(f\"Average Sector 3 Time for {driver_code_1}: {avg_sector3_time_1:.2f} seconds\")\n",
    "print(f\"Average Sector 3 Time for {driver_code_2}: {avg_sector3_time_2:.2f} seconds\\n\")\n",
    "\n",
    "# Fill missing positions forward and backward\n",
    "driver_data_1['Position'].fillna(method='ffill', inplace=True)\n",
    "driver_data_1['Position'].fillna(method='bfill', inplace=True)\n",
    "\n",
    "driver_data_2['Position'].fillna(method='ffill', inplace=True)\n",
    "driver_data_2['Position'].fillna(method='bfill', inplace=True)\n",
    "\n",
    "# Calculate net position change for Driver 1 (VER)\n",
    "starting_position_ver = driver_data_1['Position'].iloc[0]\n",
    "ending_position_ver = driver_data_1['Position'].iloc[-1]\n",
    "net_position_change_ver = starting_position_ver - ending_position_ver\n",
    "print(f\"Net position change for {driver_code_1} (Verstappen): {net_position_change_ver}\")\n",
    "\n",
    "# Calculate net position change for Driver 2 (HAM)\n",
    "starting_position_ham = driver_data_2['Position'].iloc[0]\n",
    "ending_position_ham = driver_data_2['Position'].iloc[-1]\n",
    "net_position_change_ham = starting_position_ham - ending_position_ham\n",
    "print(f\"Net position change for {driver_code_2} (Hamilton): {net_position_change_ham}\")\n"
   ]
  },
  {
   "cell_type": "markdown",
   "id": "85d20877",
   "metadata": {},
   "source": [
    "## Step 4: Visualisations\n",
    "This section provides visual comparisons of the two drivers across different aspects of their race performance. The visualisations include:\n",
    "1. **Lap Time Comparison**: To analyse consistency and speed across laps.\n",
    "2. **Average Sector Times Comparison**: To see each driver's strengths in different track sectors.\n",
    "3. **Position Over Time**: To track position changes throughout the race.\n"
   ]
  },
  {
   "cell_type": "markdown",
   "id": "d995d2ba",
   "metadata": {},
   "source": [
    "### Lap Time Comparison\n",
    "This line chart compares the lap times of both drivers across the race. Each point represents the time taken to complete a lap, showing each driver’s consistency and speed. A lower line indicates faster lap times. Significant dips or peaks may suggest strategic changes, like pit stops or race incidents.\n"
   ]
  },
  {
   "cell_type": "code",
   "execution_count": 118,
   "id": "67f7846f",
   "metadata": {},
   "outputs": [
    {
     "data": {
      "image/png": "[encoded data removed]",
      "text/plain": [
       "<Figure size 1000x600 with 1 Axes>"
      ]
     },
     "metadata": {},
     "output_type": "display_data"
    }
   ],
   "source": [
    "# Plot lap times for both drivers\n",
    "plt.figure(figsize=(10, 6))\n",
    "plt.plot(driver_data_1['LapNumber'], driver_data_1['LapTimeSeconds'], label=f'{driver_code_1} Lap Time')\n",
    "plt.plot(driver_data_2['LapNumber'], driver_data_2['LapTimeSeconds'], label=f'{driver_code_2} Lap Time')\n",
    "\n",
    "plt.xlabel('Lap Number')\n",
    "plt.ylabel('Lap Time (seconds)')\n",
    "plt.title('Lap Time Comparison')\n",
    "plt.legend()\n",
    "plt.show()\n"
   ]
  },
  {
   "cell_type": "markdown",
   "id": "53cfcd82",
   "metadata": {},
   "source": [
    "### Insights for Lap Time Comparison\n",
    "- **Consistency**: Verstappen shows slightly more consistent lap times compared to Hamilton, generally maintaining faster laps overall.\n",
    "- **Spikes in Lap Times**: Notable spikes appear around Lap 22 for Verstappen and Lap 26 for Hamilton. These may correspond to pit stops or specific race events, like safety car periods. Further investigation could confirm if these spikes align with pit stop laps.\n",
    "- **Overall Performance**: The lower average lap times for Verstappen indicate a slight edge in speed, which could reflect his race strategy or car performance.\n"
   ]
  },
  {
   "cell_type": "markdown",
   "id": "8dcd0519",
   "metadata": {},
   "source": [
    "### Average Sector Times Comparison\n",
    "This bar chart compares the average sector times for each driver across the race. Each sector represents a different part of the track, allowing us to see which driver was faster in each section. This helps identify areas of strength or weakness for each driver.\n"
   ]
  },
  {
   "cell_type": "code",
   "execution_count": 119,
   "id": "1a7238b5",
   "metadata": {},
   "outputs": [
    {
     "data": {
      "image/png": "[encoded data removed]",
      "text/plain": [
       "<Figure size 800x600 with 1 Axes>"
      ]
     },
     "metadata": {},
     "output_type": "display_data"
    }
   ],
   "source": [
    "import numpy as np\n",
    "\n",
    "# Data for the bar chart\n",
    "sectors = ['Sector 1', 'Sector 2', 'Sector 3']\n",
    "avg_sector_times_1 = [avg_sector1_time_1, avg_sector2_time_1, avg_sector3_time_1]\n",
    "avg_sector_times_2 = [avg_sector1_time_2, avg_sector2_time_2, avg_sector3_time_2]\n",
    "\n",
    "x = np.arange(len(sectors))  # the label locations\n",
    "width = 0.35  # the width of the bars\n",
    "\n",
    "# Create the plot\n",
    "fig, ax = plt.subplots(figsize=(8, 6))\n",
    "bar1 = ax.bar(x - width/2, avg_sector_times_1, width, label=f'{driver_code_1} Average Sector Time')\n",
    "bar2 = ax.bar(x + width/2, avg_sector_times_2, width, label=f'{driver_code_2} Average Sector Time')\n",
    "\n",
    "# Add labels and title\n",
    "ax.set_xlabel('Sectors')\n",
    "ax.set_ylabel('Average Time (seconds)')\n",
    "ax.set_title('Average Sector Times Comparison')\n",
    "ax.set_xticks(x)\n",
    "ax.set_xticklabels(sectors)\n",
    "ax.legend()\n",
    "\n",
    "plt.show()\n"
   ]
  },
  {
   "cell_type": "markdown",
   "id": "0d15f075",
   "metadata": {},
   "source": [
    "### Insights for Average Sector Times Comparison\n",
    "- **Sector Strengths**: Verstappen is slightly faster in all three sectors, especially in Sector 2, which may suggest better handling or speed through that part of the track.\n",
    "- **Close Performance in Sector 1**: Both drivers have very similar times in Sector 1, indicating comparable performance in that part of the track.\n",
    "- **Implications**: Verstappen's overall faster sector times contribute to his lead in lap times, highlighting potential advantages in car setup or driving technique.\n"
   ]
  },
  {
   "cell_type": "markdown",
   "id": "80a949c6",
   "metadata": {},
   "source": [
    "### Position Over Time\n",
    "This line chart shows each driver’s position throughout the race. A lower line represents a better position (1st, 2nd, etc.), while higher values indicate a lower position on the track. This visualisation highlights each driver’s consistency, overtakes, and any drops in position over time. It’s especially useful for spotting critical moments where one driver gained or lost ground relative to the other.\n"
   ]
  },
  {
   "cell_type": "code",
   "execution_count": 120,
   "id": "31d45889",
   "metadata": {},
   "outputs": [
    {
     "data": {
      "image/png": "[encoded data removed]",
      "text/plain": [
       "<Figure size 1000x600 with 1 Axes>"
      ]
     },
     "metadata": {},
     "output_type": "display_data"
    }
   ],
   "source": [
    "# Plot position over laps for both drivers\n",
    "plt.figure(figsize=(10, 6))\n",
    "plt.plot(driver_data_1['LapNumber'], driver_data_1['Position'], label=f'{driver_code_1} Position')\n",
    "plt.plot(driver_data_2['LapNumber'], driver_data_2['Position'], label=f'{driver_code_2} Position')\n",
    "\n",
    "plt.xlabel('Lap Number')\n",
    "plt.ylabel('Position')\n",
    "plt.title('Position Over Time')\n",
    "plt.legend()\n",
    "plt.gca().invert_yaxis()  # Lower positions (1st, 2nd) appear at the top\n",
    "plt.show()\n"
   ]
  },
  {
   "cell_type": "markdown",
   "id": "b527155c",
   "metadata": {},
   "source": [
    "### Insights for Position Over Time\n",
    "- **Starting Positions**: Hamilton starts in 10th, while Verstappen starts in 3rd, reflecting their initial grid positions and creating different strategic paths in the race.\n",
    "- **Overtakes and Position Changes**: Both drivers show position fluctuations, particularly Hamilton, who makes noticeable gains from his starting position. Verstappen maintains a more stable position near the front of the pack.\n",
    "- **End Position**: The position trends indicate that while Hamilton gained positions during the race, Verstappen maintained a steady lead, reflecting a more defensive or consistent race strategy.\n"
   ]
  },
  {
   "cell_type": "markdown",
   "id": "383b1009",
   "metadata": {},
   "source": [
    "## Conclusion\n",
    "This analysis compared the race performances of Verstappen and Hamilton across several metrics, including lap times, sector times, and position changes. Key findings include:\n",
    "\n",
    "- **Lap Times**: Verstappen consistently recorded slightly faster lap times, showing better speed and consistency overall.\n",
    "- **Sector Performance**: Verstappen had the edge in all three sectors, especially in Sector 2, suggesting advantages in his race setup or technique.\n",
    "- **Position Trends**: Hamilton gained positions from his starting grid position, showing his ability to overtake and advance. Verstappen maintained a steady position near the front, indicating a strong defensive strategy.\n",
    "\n",
    "These insights highlight the strengths of each driver’s race approach and provide an in-depth view of their performance during the race.\n"
   ]
  },
  {
   "cell_type": "markdown",
   "id": "ff803501",
   "metadata": {},
   "source": [
    "## Limitations\n",
    "While this analysis provides valuable insights into the drivers’ performances, it is essential to consider certain limitations:\n",
    "\n",
    "- **Missing Data**: Some `Position` values were missing, which could affect the accuracy of the position trends. We used forward and backward filling to maintain continuity, but these values are assumptions rather than actual data points.\n",
    "- **Context of Lap Time Spikes**: Spikes in lap times likely correspond to pit stops or safety car periods, but we do not have specific race event data to confirm these occurrences.\n",
    "- **Generalisation**: This analysis is based on a single race. Results may vary across different races due to track conditions, weather, and other race-specific factors.\n",
    "\n",
    "Acknowledging these limitations ensures that our findings are interpreted with an understanding of potential data constraints.\n"
   ]
  },
  {
   "cell_type": "code",
   "execution_count": null,
   "id": "98117b57",
   "metadata": {},
   "outputs": [],
   "source": []
  }
 ],
 "metadata": {
  "kernelspec": {
   "display_name": "Python 3 (ipykernel)",
   "language": "python",
   "name": "python3"
  },
  "language_info": {
   "codemirror_mode": {
    "name": "ipython",
    "version": 3
   },
   "file_extension": ".py",
   "mimetype": "text/x-python",
   "name": "python",
   "nbconvert_exporter": "python",
   "pygments_lexer": "ipython3",
   "version": "3.9.4"
  }
 },
 "nbformat": 4,
 "nbformat_minor": 5
}
